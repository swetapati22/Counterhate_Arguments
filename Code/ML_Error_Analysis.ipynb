{
 "cells": [
  {
   "cell_type": "code",
   "execution_count": 1,
   "id": "f0c833eb",
   "metadata": {},
   "outputs": [],
   "source": [
    "import pandas as pd\n",
    "import matplotlib.pyplot as plt\n",
    "from scipy.stats import ttest_ind"
   ]
  },
  {
   "cell_type": "markdown",
   "id": "1375fb78",
   "metadata": {},
   "source": [
    "#### In this notebook we perform error analysis on multi-linguality dimention based on 4 Experiments that we conducted:\n",
    "- Article Level\n",
    "    - Only Tweets\n",
    "    - Tweets with Articles\n",
    "- Paragraph Level \n",
    "    - Only Tweets\n",
    "    - Tweets with Paragraphs"
   ]
  },
  {
   "cell_type": "markdown",
   "id": "83a83394",
   "metadata": {},
   "source": [
    "# 1. Paragraphs (Tweet) - Misprediction Analysis"
   ]
  },
  {
   "cell_type": "code",
   "execution_count": 2,
   "id": "35678bc8",
   "metadata": {},
   "outputs": [],
   "source": [
    "#Load the translated dataset:\n",
    "data1 = pd.read_csv('para1_translated.csv')"
   ]
  },
  {
   "cell_type": "code",
   "execution_count": 3,
   "id": "fdfd8b55",
   "metadata": {},
   "outputs": [],
   "source": [
    "#Load the test with predictions dataset:\n",
    "data2 = pd.read_csv('ParaLevel_TweetOnly_test_with_predictions.csv')"
   ]
  },
  {
   "cell_type": "code",
   "execution_count": 4,
   "id": "0ad28435",
   "metadata": {},
   "outputs": [],
   "source": [
    "#Columns to merge on:\n",
    "col1= 'tweet'\n",
    "col2= 'paragraph'"
   ]
  },
  {
   "cell_type": "code",
   "execution_count": 5,
   "id": "eb28e418",
   "metadata": {},
   "outputs": [],
   "source": [
    "#Merge the datasets based on these columns:\n",
    "merged_data = pd.merge(data2, data1[[col1, col2, 'language']], on=[col1, col2,], how='left')"
   ]
  },
  {
   "cell_type": "code",
   "execution_count": 6,
   "id": "acc6a581",
   "metadata": {
    "scrolled": false
   },
   "outputs": [
    {
     "data": {
      "text/html": [
       "<div>\n",
       "<style scoped>\n",
       "    .dataframe tbody tr th:only-of-type {\n",
       "        vertical-align: middle;\n",
       "    }\n",
       "\n",
       "    .dataframe tbody tr th {\n",
       "        vertical-align: top;\n",
       "    }\n",
       "\n",
       "    .dataframe thead th {\n",
       "        text-align: right;\n",
       "    }\n",
       "</style>\n",
       "<table border=\"1\" class=\"dataframe\">\n",
       "  <thead>\n",
       "    <tr style=\"text-align: right;\">\n",
       "      <th></th>\n",
       "      <th>tweet</th>\n",
       "      <th>paragraph</th>\n",
       "      <th>label</th>\n",
       "      <th>predicted_label</th>\n",
       "      <th>language</th>\n",
       "    </tr>\n",
       "  </thead>\n",
       "  <tbody>\n",
       "    <tr>\n",
       "      <th>0</th>\n",
       "      <td>アヴリル・ラヴィーンは醜いし才能がない</td>\n",
       "      <td>ウーマはハリウッドで約 30 年前から活躍していますが、今でも驚異的な容姿をしています。おそ...</td>\n",
       "      <td>0</td>\n",
       "      <td>0</td>\n",
       "      <td>ja</td>\n",
       "    </tr>\n",
       "    <tr>\n",
       "      <th>1</th>\n",
       "      <td>マドンナはあの女だ!!!!</td>\n",
       "      <td>やあ、それはすごいですね。</td>\n",
       "      <td>0</td>\n",
       "      <td>0</td>\n",
       "      <td>ja</td>\n",
       "    </tr>\n",
       "    <tr>\n",
       "      <th>2</th>\n",
       "      <td>Nancy grace is a ignorant bitch, how does she ...</td>\n",
       "      <td>If you liked this, please feel free to upvote,...</td>\n",
       "      <td>0</td>\n",
       "      <td>0</td>\n",
       "      <td>en</td>\n",
       "    </tr>\n",
       "    <tr>\n",
       "      <th>3</th>\n",
       "      <td>But Sandra Bullock is bad at acting you dumb s...</td>\n",
       "      <td>In another incident , some firefighters appare...</td>\n",
       "      <td>0</td>\n",
       "      <td>0</td>\n",
       "      <td>en</td>\n",
       "    </tr>\n",
       "    <tr>\n",
       "      <th>4</th>\n",
       "      <td>@TuckerCarlson Tucker Carlson is a domestic te...</td>\n",
       "      <td>A fellow Republican on the Jan. 6 committee, R...</td>\n",
       "      <td>0</td>\n",
       "      <td>0</td>\n",
       "      <td>en</td>\n",
       "    </tr>\n",
       "  </tbody>\n",
       "</table>\n",
       "</div>"
      ],
      "text/plain": [
       "                                               tweet  \\\n",
       "0                                アヴリル・ラヴィーンは醜いし才能がない   \n",
       "1                                      マドンナはあの女だ!!!!   \n",
       "2  Nancy grace is a ignorant bitch, how does she ...   \n",
       "3  But Sandra Bullock is bad at acting you dumb s...   \n",
       "4  @TuckerCarlson Tucker Carlson is a domestic te...   \n",
       "\n",
       "                                           paragraph  label  predicted_label  \\\n",
       "0  ウーマはハリウッドで約 30 年前から活躍していますが、今でも驚異的な容姿をしています。おそ...      0                0   \n",
       "1                                      やあ、それはすごいですね。      0                0   \n",
       "2  If you liked this, please feel free to upvote,...      0                0   \n",
       "3  In another incident , some firefighters appare...      0                0   \n",
       "4  A fellow Republican on the Jan. 6 committee, R...      0                0   \n",
       "\n",
       "  language  \n",
       "0       ja  \n",
       "1       ja  \n",
       "2       en  \n",
       "3       en  \n",
       "4       en  "
      ]
     },
     "execution_count": 6,
     "metadata": {},
     "output_type": "execute_result"
    }
   ],
   "source": [
    "merged_data.head(5)"
   ]
  },
  {
   "cell_type": "code",
   "execution_count": 7,
   "id": "d96a231d",
   "metadata": {},
   "outputs": [
    {
     "data": {
      "text/plain": [
       "(4063, 5)"
      ]
     },
     "execution_count": 7,
     "metadata": {},
     "output_type": "execute_result"
    }
   ],
   "source": [
    "#Total Test Data Size:\n",
    "merged_data.shape"
   ]
  },
  {
   "cell_type": "code",
   "execution_count": 8,
   "id": "a076e2a7",
   "metadata": {},
   "outputs": [],
   "source": [
    "#Create a new column to check if each prediction was correct:\n",
    "merged_data['correct_prediction'] = merged_data['predicted_label'] == merged_data['label']"
   ]
  },
  {
   "cell_type": "code",
   "execution_count": 9,
   "id": "ae2f6bdf",
   "metadata": {},
   "outputs": [],
   "source": [
    "#Analyze only the errors:\n",
    "errors_df = merged_data[merged_data['correct_prediction'] == False].copy()"
   ]
  },
  {
   "cell_type": "code",
   "execution_count": 10,
   "id": "a1ecfe25",
   "metadata": {},
   "outputs": [
    {
     "data": {
      "text/html": [
       "<div>\n",
       "<style scoped>\n",
       "    .dataframe tbody tr th:only-of-type {\n",
       "        vertical-align: middle;\n",
       "    }\n",
       "\n",
       "    .dataframe tbody tr th {\n",
       "        vertical-align: top;\n",
       "    }\n",
       "\n",
       "    .dataframe thead th {\n",
       "        text-align: right;\n",
       "    }\n",
       "</style>\n",
       "<table border=\"1\" class=\"dataframe\">\n",
       "  <thead>\n",
       "    <tr style=\"text-align: right;\">\n",
       "      <th></th>\n",
       "      <th>tweet</th>\n",
       "      <th>paragraph</th>\n",
       "      <th>label</th>\n",
       "      <th>predicted_label</th>\n",
       "      <th>language</th>\n",
       "      <th>correct_prediction</th>\n",
       "    </tr>\n",
       "  </thead>\n",
       "  <tbody>\n",
       "    <tr>\n",
       "      <th>9</th>\n",
       "      <td>I fucking hate Cristiano Ronaldo. He's so full...</td>\n",
       "      <td>Ronaldo in 2003 and 2017 are two completely di...</td>\n",
       "      <td>1</td>\n",
       "      <td>0</td>\n",
       "      <td>en</td>\n",
       "      <td>False</td>\n",
       "    </tr>\n",
       "    <tr>\n",
       "      <th>28</th>\n",
       "      <td>でもサンドラ・ブロックは演技が下手だよ、バカ野郎。</td>\n",
       "      <td>『あなたが眠っている間に』は、サンドラ・ブロックをハリウッドの寵児としての地位を確立するのに...</td>\n",
       "      <td>0</td>\n",
       "      <td>1</td>\n",
       "      <td>ja</td>\n",
       "      <td>False</td>\n",
       "    </tr>\n",
       "    <tr>\n",
       "      <th>35</th>\n",
       "      <td>Bill Cosby es un depredador sexual jajaja.</td>\n",
       "      <td>Y la de Bill parece ser que tuvo relaciones se...</td>\n",
       "      <td>0</td>\n",
       "      <td>1</td>\n",
       "      <td>es</td>\n",
       "      <td>False</td>\n",
       "    </tr>\n",
       "    <tr>\n",
       "      <th>36</th>\n",
       "      <td>Bill Cosby es un depredador sexual jajaja.</td>\n",
       "      <td>Y la de Bill parece ser que tuvo relaciones se...</td>\n",
       "      <td>0</td>\n",
       "      <td>1</td>\n",
       "      <td>es</td>\n",
       "      <td>False</td>\n",
       "    </tr>\n",
       "    <tr>\n",
       "      <th>140</th>\n",
       "      <td>ビル・コスビーは性犯罪者です（笑）</td>\n",
       "      <td>それは合衆国憲法と呼ばれるもので、たとえ左翼がリンチが失敗に終わったことに腹を立てたとしても...</td>\n",
       "      <td>1</td>\n",
       "      <td>0</td>\n",
       "      <td>ja</td>\n",
       "      <td>False</td>\n",
       "    </tr>\n",
       "  </tbody>\n",
       "</table>\n",
       "</div>"
      ],
      "text/plain": [
       "                                                 tweet  \\\n",
       "9    I fucking hate Cristiano Ronaldo. He's so full...   \n",
       "28                           でもサンドラ・ブロックは演技が下手だよ、バカ野郎。   \n",
       "35          Bill Cosby es un depredador sexual jajaja.   \n",
       "36          Bill Cosby es un depredador sexual jajaja.   \n",
       "140                                  ビル・コスビーは性犯罪者です（笑）   \n",
       "\n",
       "                                             paragraph  label  \\\n",
       "9    Ronaldo in 2003 and 2017 are two completely di...      1   \n",
       "28   『あなたが眠っている間に』は、サンドラ・ブロックをハリウッドの寵児としての地位を確立するのに...      0   \n",
       "35   Y la de Bill parece ser que tuvo relaciones se...      0   \n",
       "36   Y la de Bill parece ser que tuvo relaciones se...      0   \n",
       "140  それは合衆国憲法と呼ばれるもので、たとえ左翼がリンチが失敗に終わったことに腹を立てたとしても...      1   \n",
       "\n",
       "     predicted_label language  correct_prediction  \n",
       "9                  0       en               False  \n",
       "28                 1       ja               False  \n",
       "35                 1       es               False  \n",
       "36                 1       es               False  \n",
       "140                0       ja               False  "
      ]
     },
     "execution_count": 10,
     "metadata": {},
     "output_type": "execute_result"
    }
   ],
   "source": [
    "errors_df.head(5)"
   ]
  },
  {
   "cell_type": "code",
   "execution_count": 11,
   "id": "9ad13f03",
   "metadata": {},
   "outputs": [
    {
     "data": {
      "text/plain": [
       "(95, 6)"
      ]
     },
     "execution_count": 11,
     "metadata": {},
     "output_type": "execute_result"
    }
   ],
   "source": [
    "#Total number of mis-predictions:\n",
    "errors_df.shape"
   ]
  },
  {
   "cell_type": "code",
   "execution_count": 12,
   "id": "4c33d1ac",
   "metadata": {},
   "outputs": [],
   "source": [
    "#Count the number of records per language:\n",
    "language_counts = errors_df['language'].value_counts()"
   ]
  },
  {
   "cell_type": "code",
   "execution_count": 13,
   "id": "133fb72d",
   "metadata": {},
   "outputs": [
    {
     "data": {
      "image/png": "[encoded data removed]",
      "text/plain": [
       "<Figure size 500x300 with 1 Axes>"
      ]
     },
     "metadata": {},
     "output_type": "display_data"
    }
   ],
   "source": [
    "#Plotting a bar graph:\n",
    "plt.figure(figsize=(5, 3))\n",
    "language_counts.plot(kind='bar', color='skyblue')\n",
    "plt.title('Number of Mis-predicted Records per Language')\n",
    "plt.xlabel('Language')\n",
    "plt.ylabel('Number of Mis-predicted Records')\n",
    "plt.xticks(rotation=0)  \n",
    "#Rotate labels to make them readable\n",
    "plt.grid(axis='y', linestyle='--', alpha=0.7)\n",
    "plt.show()"
   ]
  },
  {
   "cell_type": "code",
   "execution_count": 14,
   "id": "8f153791",
   "metadata": {},
   "outputs": [
    {
     "data": {
      "image/png": "[encoded data removed]",
      "text/plain": [
       "<Figure size 500x300 with 1 Axes>"
      ]
     },
     "metadata": {},
     "output_type": "display_data"
    }
   ],
   "source": [
    "#Choosing shades of green:\n",
    "colors = ['#74c476', '#31a354', '#006d2c']\n",
    "#Plotting a pie chart:\n",
    "plt.figure(figsize=(5, 3))\n",
    "plt.pie(language_counts, labels=language_counts.index, autopct='%1.1f%%', startangle=140, colors=colors)\n",
    "plt.title('Mis-prediction Distribution by Language')\n",
    "plt.axis('equal')  \n",
    "#Equal aspect ratio ensures that pie is drawn as a circle.\n",
    "plt.show()"
   ]
  },
  {
   "cell_type": "code",
   "execution_count": 15,
   "id": "bb432652",
   "metadata": {},
   "outputs": [],
   "source": [
    "#Correct way to add columns for text length to avoid SettingWithCopyWarning\n",
    "errors_df.loc[:, 'tweet_length'] = errors_df['tweet'].apply(len)\n",
    "errors_df.loc[:, 'paragraph_length'] = errors_df['paragraph'].apply(len)"
   ]
  },
  {
   "cell_type": "code",
   "execution_count": 16,
   "id": "0979e81a",
   "metadata": {},
   "outputs": [
    {
     "name": "stdout",
     "output_type": "stream",
     "text": [
      "Error Tweet Length Statistics:\n",
      "count     95.000000\n",
      "mean      49.115789\n",
      "std       21.515884\n",
      "min       13.000000\n",
      "25%       37.000000\n",
      "50%       53.000000\n",
      "75%       56.000000\n",
      "max      144.000000\n",
      "Name: tweet_length, dtype: float64\n"
     ]
    }
   ],
   "source": [
    "#Display basic statistics about text lengths in errors:\n",
    "print(\"Error Tweet Length Statistics:\")\n",
    "print(errors_df['tweet_length'].describe())"
   ]
  },
  {
   "cell_type": "code",
   "execution_count": 17,
   "id": "6794186b",
   "metadata": {},
   "outputs": [
    {
     "name": "stdout",
     "output_type": "stream",
     "text": [
      "Error paragraph Length Statistics:\n",
      "count     95.000000\n",
      "mean     199.410526\n",
      "std      205.557648\n",
      "min       13.000000\n",
      "25%       63.000000\n",
      "50%      120.000000\n",
      "75%      275.500000\n",
      "max      965.000000\n",
      "Name: paragraph_length, dtype: float64\n"
     ]
    }
   ],
   "source": [
    "print(\"Error paragraph Length Statistics:\")\n",
    "print(errors_df['paragraph_length'].describe())"
   ]
  },
  {
   "cell_type": "code",
   "execution_count": 18,
   "id": "1cd20816",
   "metadata": {},
   "outputs": [
    {
     "data": {
      "text/plain": [
       "Text(0, 0.5, 'Frequency')"
      ]
     },
     "execution_count": 18,
     "metadata": {},
     "output_type": "execute_result"
    },
    {
     "data": {
      "image/png": "[encoded data removed]",
      "text/plain": [
       "<Figure size 800x400 with 1 Axes>"
      ]
     },
     "metadata": {},
     "output_type": "display_data"
    }
   ],
   "source": [
    "# Visualize the distributions of tweet and article lengths\n",
    "plt.figure(figsize=(8, 4))\n",
    "plt.subplot(1, 2, 1)\n",
    "plt.hist(errors_df['tweet_length'], bins=20, color='red', alpha=0.7)\n",
    "plt.title('Distribution of Tweet Lengths in Errors')\n",
    "plt.xlabel('Tweet Length')\n",
    "plt.ylabel('Frequency')"
   ]
  },
  {
   "cell_type": "code",
   "execution_count": 19,
   "id": "b0c42eb7",
   "metadata": {},
   "outputs": [
    {
     "data": {
      "image/png": "[encoded data removed]",
      "text/plain": [
       "<Figure size 640x480 with 1 Axes>"
      ]
     },
     "metadata": {},
     "output_type": "display_data"
    }
   ],
   "source": [
    "plt.subplot(1, 2, 2)\n",
    "plt.hist(errors_df['paragraph_length'], bins=20, color='blue', alpha=0.7)\n",
    "plt.title('Distribution of Paragraph Lengths in Errors')\n",
    "plt.xlabel('Paragraph Length')\n",
    "plt.ylabel('Frequency')\n",
    "plt.show()"
   ]
  },
  {
   "cell_type": "code",
   "execution_count": 20,
   "id": "d2681870",
   "metadata": {},
   "outputs": [
    {
     "name": "stdout",
     "output_type": "stream",
     "text": [
      "\n",
      "Examples of Misclassified Texts:\n"
     ]
    },
    {
     "data": {
      "text/html": [
       "<div>\n",
       "<style scoped>\n",
       "    .dataframe tbody tr th:only-of-type {\n",
       "        vertical-align: middle;\n",
       "    }\n",
       "\n",
       "    .dataframe tbody tr th {\n",
       "        vertical-align: top;\n",
       "    }\n",
       "\n",
       "    .dataframe thead th {\n",
       "        text-align: right;\n",
       "    }\n",
       "</style>\n",
       "<table border=\"1\" class=\"dataframe\">\n",
       "  <thead>\n",
       "    <tr style=\"text-align: right;\">\n",
       "      <th></th>\n",
       "      <th>tweet</th>\n",
       "      <th>paragraph</th>\n",
       "      <th>label</th>\n",
       "      <th>predicted_label</th>\n",
       "    </tr>\n",
       "  </thead>\n",
       "  <tbody>\n",
       "    <tr>\n",
       "      <th>9</th>\n",
       "      <td>I fucking hate Cristiano Ronaldo. He's so full...</td>\n",
       "      <td>Ronaldo in 2003 and 2017 are two completely di...</td>\n",
       "      <td>1</td>\n",
       "      <td>0</td>\n",
       "    </tr>\n",
       "    <tr>\n",
       "      <th>28</th>\n",
       "      <td>でもサンドラ・ブロックは演技が下手だよ、バカ野郎。</td>\n",
       "      <td>『あなたが眠っている間に』は、サンドラ・ブロックをハリウッドの寵児としての地位を確立するのに...</td>\n",
       "      <td>0</td>\n",
       "      <td>1</td>\n",
       "    </tr>\n",
       "    <tr>\n",
       "      <th>35</th>\n",
       "      <td>Bill Cosby es un depredador sexual jajaja.</td>\n",
       "      <td>Y la de Bill parece ser que tuvo relaciones se...</td>\n",
       "      <td>0</td>\n",
       "      <td>1</td>\n",
       "    </tr>\n",
       "    <tr>\n",
       "      <th>36</th>\n",
       "      <td>Bill Cosby es un depredador sexual jajaja.</td>\n",
       "      <td>Y la de Bill parece ser que tuvo relaciones se...</td>\n",
       "      <td>0</td>\n",
       "      <td>1</td>\n",
       "    </tr>\n",
       "    <tr>\n",
       "      <th>140</th>\n",
       "      <td>ビル・コスビーは性犯罪者です（笑）</td>\n",
       "      <td>それは合衆国憲法と呼ばれるもので、たとえ左翼がリンチが失敗に終わったことに腹を立てたとしても...</td>\n",
       "      <td>1</td>\n",
       "      <td>0</td>\n",
       "    </tr>\n",
       "  </tbody>\n",
       "</table>\n",
       "</div>"
      ],
      "text/plain": [
       "                                                 tweet  \\\n",
       "9    I fucking hate Cristiano Ronaldo. He's so full...   \n",
       "28                           でもサンドラ・ブロックは演技が下手だよ、バカ野郎。   \n",
       "35          Bill Cosby es un depredador sexual jajaja.   \n",
       "36          Bill Cosby es un depredador sexual jajaja.   \n",
       "140                                  ビル・コスビーは性犯罪者です（笑）   \n",
       "\n",
       "                                             paragraph  label  predicted_label  \n",
       "9    Ronaldo in 2003 and 2017 are two completely di...      1                0  \n",
       "28   『あなたが眠っている間に』は、サンドラ・ブロックをハリウッドの寵児としての地位を確立するのに...      0                1  \n",
       "35   Y la de Bill parece ser que tuvo relaciones se...      0                1  \n",
       "36   Y la de Bill parece ser que tuvo relaciones se...      0                1  \n",
       "140  それは合衆国憲法と呼ばれるもので、たとえ左翼がリンチが失敗に終わったことに腹を立てたとしても...      1                0  "
      ]
     },
     "execution_count": 20,
     "metadata": {},
     "output_type": "execute_result"
    }
   ],
   "source": [
    "#Print some examples of errors\n",
    "print(\"\\nExamples of Misclassified Texts:\")\n",
    "errors_df[['tweet', 'paragraph', 'label', 'predicted_label']].head()"
   ]
  },
  {
   "cell_type": "code",
   "execution_count": 21,
   "id": "0f0b3563",
   "metadata": {},
   "outputs": [],
   "source": [
    "# Save the errors to a new CSV file\n",
    "errors_df.to_csv('mispredicted_examples_para_tweet_only.csv', index=False)"
   ]
  },
  {
   "cell_type": "markdown",
   "id": "8e1ffc3a",
   "metadata": {},
   "source": [
    "# 2. Paragraphs (Tweet + Paragraph) - Misprediction Analysis"
   ]
  },
  {
   "cell_type": "code",
   "execution_count": 22,
   "id": "b741bfa3",
   "metadata": {},
   "outputs": [],
   "source": [
    "#Load the translated dataset:\n",
    "data1 = pd.read_csv('para1_translated.csv')"
   ]
  },
  {
   "cell_type": "code",
   "execution_count": 23,
   "id": "d033bb6b",
   "metadata": {},
   "outputs": [],
   "source": [
    "#Load the test with predictions dataset:\n",
    "data2 = pd.read_csv('ParaLevel_tweet_paragraph_with_predictions.csv')"
   ]
  },
  {
   "cell_type": "code",
   "execution_count": 24,
   "id": "3834218d",
   "metadata": {},
   "outputs": [],
   "source": [
    "#Columns to merge on:\n",
    "col1= 'tweet'\n",
    "col2= 'paragraph'"
   ]
  },
  {
   "cell_type": "code",
   "execution_count": 25,
   "id": "ab138518",
   "metadata": {},
   "outputs": [],
   "source": [
    "#Merge the datasets based on these columns:\n",
    "merged_data = pd.merge(data2, data1[[col1, col2, 'language']], on=[col1, col2,], how='left')"
   ]
  },
  {
   "cell_type": "code",
   "execution_count": 26,
   "id": "a3674907",
   "metadata": {
    "scrolled": false
   },
   "outputs": [
    {
     "data": {
      "text/html": [
       "<div>\n",
       "<style scoped>\n",
       "    .dataframe tbody tr th:only-of-type {\n",
       "        vertical-align: middle;\n",
       "    }\n",
       "\n",
       "    .dataframe tbody tr th {\n",
       "        vertical-align: top;\n",
       "    }\n",
       "\n",
       "    .dataframe thead th {\n",
       "        text-align: right;\n",
       "    }\n",
       "</style>\n",
       "<table border=\"1\" class=\"dataframe\">\n",
       "  <thead>\n",
       "    <tr style=\"text-align: right;\">\n",
       "      <th></th>\n",
       "      <th>tweet</th>\n",
       "      <th>paragraph</th>\n",
       "      <th>label</th>\n",
       "      <th>predicted_label</th>\n",
       "      <th>language</th>\n",
       "    </tr>\n",
       "  </thead>\n",
       "  <tbody>\n",
       "    <tr>\n",
       "      <th>0</th>\n",
       "      <td>アヴリル・ラヴィーンは醜いし才能がない</td>\n",
       "      <td>ウーマはハリウッドで約 30 年前から活躍していますが、今でも驚異的な容姿をしています。おそ...</td>\n",
       "      <td>0</td>\n",
       "      <td>0</td>\n",
       "      <td>ja</td>\n",
       "    </tr>\n",
       "    <tr>\n",
       "      <th>1</th>\n",
       "      <td>マドンナはあの女だ!!!!</td>\n",
       "      <td>やあ、それはすごいですね。</td>\n",
       "      <td>0</td>\n",
       "      <td>0</td>\n",
       "      <td>ja</td>\n",
       "    </tr>\n",
       "    <tr>\n",
       "      <th>2</th>\n",
       "      <td>Nancy grace is a ignorant bitch, how does she ...</td>\n",
       "      <td>If you liked this, please feel free to upvote,...</td>\n",
       "      <td>0</td>\n",
       "      <td>0</td>\n",
       "      <td>en</td>\n",
       "    </tr>\n",
       "    <tr>\n",
       "      <th>3</th>\n",
       "      <td>But Sandra Bullock is bad at acting you dumb s...</td>\n",
       "      <td>In another incident , some firefighters appare...</td>\n",
       "      <td>0</td>\n",
       "      <td>0</td>\n",
       "      <td>en</td>\n",
       "    </tr>\n",
       "    <tr>\n",
       "      <th>4</th>\n",
       "      <td>@TuckerCarlson Tucker Carlson is a domestic te...</td>\n",
       "      <td>A fellow Republican on the Jan. 6 committee, R...</td>\n",
       "      <td>0</td>\n",
       "      <td>0</td>\n",
       "      <td>en</td>\n",
       "    </tr>\n",
       "  </tbody>\n",
       "</table>\n",
       "</div>"
      ],
      "text/plain": [
       "                                               tweet  \\\n",
       "0                                アヴリル・ラヴィーンは醜いし才能がない   \n",
       "1                                      マドンナはあの女だ!!!!   \n",
       "2  Nancy grace is a ignorant bitch, how does she ...   \n",
       "3  But Sandra Bullock is bad at acting you dumb s...   \n",
       "4  @TuckerCarlson Tucker Carlson is a domestic te...   \n",
       "\n",
       "                                           paragraph  label  predicted_label  \\\n",
       "0  ウーマはハリウッドで約 30 年前から活躍していますが、今でも驚異的な容姿をしています。おそ...      0                0   \n",
       "1                                      やあ、それはすごいですね。      0                0   \n",
       "2  If you liked this, please feel free to upvote,...      0                0   \n",
       "3  In another incident , some firefighters appare...      0                0   \n",
       "4  A fellow Republican on the Jan. 6 committee, R...      0                0   \n",
       "\n",
       "  language  \n",
       "0       ja  \n",
       "1       ja  \n",
       "2       en  \n",
       "3       en  \n",
       "4       en  "
      ]
     },
     "execution_count": 26,
     "metadata": {},
     "output_type": "execute_result"
    }
   ],
   "source": [
    "merged_data.head(5)"
   ]
  },
  {
   "cell_type": "code",
   "execution_count": 27,
   "id": "b2b7b10c",
   "metadata": {},
   "outputs": [
    {
     "data": {
      "text/plain": [
       "(4063, 5)"
      ]
     },
     "execution_count": 27,
     "metadata": {},
     "output_type": "execute_result"
    }
   ],
   "source": [
    "#Total Test Data Size:\n",
    "merged_data.shape"
   ]
  },
  {
   "cell_type": "code",
   "execution_count": 28,
   "id": "3fd0149c",
   "metadata": {},
   "outputs": [],
   "source": [
    "#Create a new column to check if each prediction was correct:\n",
    "merged_data['correct_prediction'] = merged_data['predicted_label'] == merged_data['label']"
   ]
  },
  {
   "cell_type": "code",
   "execution_count": 29,
   "id": "00e9dc3b",
   "metadata": {},
   "outputs": [],
   "source": [
    "#Analyze only the errors:\n",
    "errors_df = merged_data[merged_data['correct_prediction'] == False].copy()"
   ]
  },
  {
   "cell_type": "code",
   "execution_count": 30,
   "id": "12d41dc9",
   "metadata": {},
   "outputs": [
    {
     "data": {
      "text/html": [
       "<div>\n",
       "<style scoped>\n",
       "    .dataframe tbody tr th:only-of-type {\n",
       "        vertical-align: middle;\n",
       "    }\n",
       "\n",
       "    .dataframe tbody tr th {\n",
       "        vertical-align: top;\n",
       "    }\n",
       "\n",
       "    .dataframe thead th {\n",
       "        text-align: right;\n",
       "    }\n",
       "</style>\n",
       "<table border=\"1\" class=\"dataframe\">\n",
       "  <thead>\n",
       "    <tr style=\"text-align: right;\">\n",
       "      <th></th>\n",
       "      <th>tweet</th>\n",
       "      <th>paragraph</th>\n",
       "      <th>label</th>\n",
       "      <th>predicted_label</th>\n",
       "      <th>language</th>\n",
       "      <th>correct_prediction</th>\n",
       "    </tr>\n",
       "  </thead>\n",
       "  <tbody>\n",
       "    <tr>\n",
       "      <th>9</th>\n",
       "      <td>I fucking hate Cristiano Ronaldo. He's so full...</td>\n",
       "      <td>Ronaldo in 2003 and 2017 are two completely di...</td>\n",
       "      <td>1</td>\n",
       "      <td>0</td>\n",
       "      <td>en</td>\n",
       "      <td>False</td>\n",
       "    </tr>\n",
       "    <tr>\n",
       "      <th>140</th>\n",
       "      <td>ビル・コスビーは性犯罪者です（笑）</td>\n",
       "      <td>それは合衆国憲法と呼ばれるもので、たとえ左翼がリンチが失敗に終わったことに腹を立てたとしても...</td>\n",
       "      <td>1</td>\n",
       "      <td>0</td>\n",
       "      <td>ja</td>\n",
       "      <td>False</td>\n",
       "    </tr>\n",
       "    <tr>\n",
       "      <th>163</th>\n",
       "      <td>I fucking hate Cristiano Ronaldo. He's so full...</td>\n",
       "      <td>He also helped raise extra money for Erik by d...</td>\n",
       "      <td>0</td>\n",
       "      <td>1</td>\n",
       "      <td>en</td>\n",
       "      <td>False</td>\n",
       "    </tr>\n",
       "    <tr>\n",
       "      <th>196</th>\n",
       "      <td>Newt Gingrich está demente; Cawthorn un apósto...</td>\n",
       "      <td>El mandato de Newt Gingrich como presidente de...</td>\n",
       "      <td>1</td>\n",
       "      <td>0</td>\n",
       "      <td>es</td>\n",
       "      <td>False</td>\n",
       "    </tr>\n",
       "    <tr>\n",
       "      <th>206</th>\n",
       "      <td>Pero Sandra Bullock es mala actuando como idio...</td>\n",
       "      <td>De hecho, cuando Bullock tiene un guión que es...</td>\n",
       "      <td>0</td>\n",
       "      <td>1</td>\n",
       "      <td>es</td>\n",
       "      <td>False</td>\n",
       "    </tr>\n",
       "  </tbody>\n",
       "</table>\n",
       "</div>"
      ],
      "text/plain": [
       "                                                 tweet  \\\n",
       "9    I fucking hate Cristiano Ronaldo. He's so full...   \n",
       "140                                  ビル・コスビーは性犯罪者です（笑）   \n",
       "163  I fucking hate Cristiano Ronaldo. He's so full...   \n",
       "196  Newt Gingrich está demente; Cawthorn un apósto...   \n",
       "206  Pero Sandra Bullock es mala actuando como idio...   \n",
       "\n",
       "                                             paragraph  label  \\\n",
       "9    Ronaldo in 2003 and 2017 are two completely di...      1   \n",
       "140  それは合衆国憲法と呼ばれるもので、たとえ左翼がリンチが失敗に終わったことに腹を立てたとしても...      1   \n",
       "163  He also helped raise extra money for Erik by d...      0   \n",
       "196  El mandato de Newt Gingrich como presidente de...      1   \n",
       "206  De hecho, cuando Bullock tiene un guión que es...      0   \n",
       "\n",
       "     predicted_label language  correct_prediction  \n",
       "9                  0       en               False  \n",
       "140                0       ja               False  \n",
       "163                1       en               False  \n",
       "196                0       es               False  \n",
       "206                1       es               False  "
      ]
     },
     "execution_count": 30,
     "metadata": {},
     "output_type": "execute_result"
    }
   ],
   "source": [
    "errors_df.head(5)"
   ]
  },
  {
   "cell_type": "code",
   "execution_count": 31,
   "id": "1f6e7669",
   "metadata": {},
   "outputs": [
    {
     "data": {
      "text/plain": [
       "(90, 6)"
      ]
     },
     "execution_count": 31,
     "metadata": {},
     "output_type": "execute_result"
    }
   ],
   "source": [
    "#Total number of mis-predictions:\n",
    "errors_df.shape"
   ]
  },
  {
   "cell_type": "code",
   "execution_count": 32,
   "id": "8020c379",
   "metadata": {},
   "outputs": [],
   "source": [
    "#Count the number of records per language:\n",
    "language_counts = errors_df['language'].value_counts()"
   ]
  },
  {
   "cell_type": "code",
   "execution_count": 33,
   "id": "530d4dda",
   "metadata": {},
   "outputs": [
    {
     "data": {
      "image/png": "[encoded data removed]",
      "text/plain": [
       "<Figure size 500x300 with 1 Axes>"
      ]
     },
     "metadata": {},
     "output_type": "display_data"
    }
   ],
   "source": [
    "#Plotting a bar graph:\n",
    "plt.figure(figsize=(5, 3))\n",
    "language_counts.plot(kind='bar', color='skyblue')\n",
    "plt.title('Number of Mis-predicted Records per Language')\n",
    "plt.xlabel('Language')\n",
    "plt.ylabel('Number of Mis-predicted Records')\n",
    "plt.xticks(rotation=0)  \n",
    "#Rotate labels to make them readable\n",
    "plt.grid(axis='y', linestyle='--', alpha=0.7)\n",
    "plt.show()"
   ]
  },
  {
   "cell_type": "code",
   "execution_count": 34,
   "id": "64f5c298",
   "metadata": {},
   "outputs": [
    {
     "data": {
      "image/png": "[encoded data removed]",
      "text/plain": [
       "<Figure size 500x300 with 1 Axes>"
      ]
     },
     "metadata": {},
     "output_type": "display_data"
    }
   ],
   "source": [
    "#Choosing shades of green:\n",
    "colors = ['#74c476', '#31a354', '#006d2c']\n",
    "#Plotting a pie chart:\n",
    "plt.figure(figsize=(5, 3))\n",
    "plt.pie(language_counts, labels=language_counts.index, autopct='%1.1f%%', startangle=140, colors=colors)\n",
    "plt.title('Mis-prediction Distribution by Language')\n",
    "plt.axis('equal')  \n",
    "#Equal aspect ratio ensures that pie is drawn as a circle.\n",
    "plt.show()"
   ]
  },
  {
   "cell_type": "code",
   "execution_count": 35,
   "id": "d3c9e89b",
   "metadata": {},
   "outputs": [],
   "source": [
    "#Correct way to add columns for text length to avoid SettingWithCopyWarning\n",
    "errors_df.loc[:, 'tweet_length'] = errors_df['tweet'].apply(len)\n",
    "errors_df.loc[:, 'paragraph_length'] = errors_df['paragraph'].apply(len)"
   ]
  },
  {
   "cell_type": "code",
   "execution_count": 36,
   "id": "96d41f8e",
   "metadata": {},
   "outputs": [
    {
     "name": "stdout",
     "output_type": "stream",
     "text": [
      "Error Tweet Length Statistics:\n",
      "count    90.000000\n",
      "mean     47.688889\n",
      "std      18.211396\n",
      "min      13.000000\n",
      "25%      37.000000\n",
      "50%      53.000000\n",
      "75%      56.000000\n",
      "max      97.000000\n",
      "Name: tweet_length, dtype: float64\n"
     ]
    }
   ],
   "source": [
    "#Display basic statistics about text lengths in errors:\n",
    "print(\"Error Tweet Length Statistics:\")\n",
    "print(errors_df['tweet_length'].describe())"
   ]
  },
  {
   "cell_type": "code",
   "execution_count": 37,
   "id": "92437b90",
   "metadata": {},
   "outputs": [
    {
     "name": "stdout",
     "output_type": "stream",
     "text": [
      "Error paragraph Length Statistics:\n",
      "count      90.000000\n",
      "mean      222.922222\n",
      "std       217.966507\n",
      "min        13.000000\n",
      "25%        76.500000\n",
      "50%       137.000000\n",
      "75%       277.750000\n",
      "max      1056.000000\n",
      "Name: paragraph_length, dtype: float64\n"
     ]
    }
   ],
   "source": [
    "print(\"Error paragraph Length Statistics:\")\n",
    "print(errors_df['paragraph_length'].describe())"
   ]
  },
  {
   "cell_type": "code",
   "execution_count": 38,
   "id": "0ec12a41",
   "metadata": {},
   "outputs": [
    {
     "data": {
      "text/plain": [
       "Text(0, 0.5, 'Frequency')"
      ]
     },
     "execution_count": 38,
     "metadata": {},
     "output_type": "execute_result"
    },
    {
     "data": {
      "image/png": "[encoded data removed]",
      "text/plain": [
       "<Figure size 800x400 with 1 Axes>"
      ]
     },
     "metadata": {},
     "output_type": "display_data"
    }
   ],
   "source": [
    "# Visualize the distributions of tweet and article lengths\n",
    "plt.figure(figsize=(8, 4))\n",
    "plt.subplot(1, 2, 1)\n",
    "plt.hist(errors_df['tweet_length'], bins=20, color='red', alpha=0.7)\n",
    "plt.title('Distribution of Tweet Lengths in Errors')\n",
    "plt.xlabel('Tweet Length')\n",
    "plt.ylabel('Frequency')"
   ]
  },
  {
   "cell_type": "code",
   "execution_count": 39,
   "id": "b37efc7b",
   "metadata": {},
   "outputs": [
    {
     "data": {
      "image/png": "[encoded data removed]",
      "text/plain": [
       "<Figure size 640x480 with 1 Axes>"
      ]
     },
     "metadata": {},
     "output_type": "display_data"
    }
   ],
   "source": [
    "plt.subplot(1, 2, 2)\n",
    "plt.hist(errors_df['paragraph_length'], bins=20, color='blue', alpha=0.7)\n",
    "plt.title('Distribution of Paragraph Lengths (Tweet+Paragraph) in Errors')\n",
    "plt.xlabel('Paragraph Length')\n",
    "plt.ylabel('Frequency')\n",
    "plt.show()"
   ]
  },
  {
   "cell_type": "code",
   "execution_count": 40,
   "id": "fc7c94e2",
   "metadata": {},
   "outputs": [
    {
     "name": "stdout",
     "output_type": "stream",
     "text": [
      "\n",
      "Examples of Misclassified Texts:\n"
     ]
    },
    {
     "data": {
      "text/html": [
       "<div>\n",
       "<style scoped>\n",
       "    .dataframe tbody tr th:only-of-type {\n",
       "        vertical-align: middle;\n",
       "    }\n",
       "\n",
       "    .dataframe tbody tr th {\n",
       "        vertical-align: top;\n",
       "    }\n",
       "\n",
       "    .dataframe thead th {\n",
       "        text-align: right;\n",
       "    }\n",
       "</style>\n",
       "<table border=\"1\" class=\"dataframe\">\n",
       "  <thead>\n",
       "    <tr style=\"text-align: right;\">\n",
       "      <th></th>\n",
       "      <th>tweet</th>\n",
       "      <th>paragraph</th>\n",
       "      <th>label</th>\n",
       "      <th>predicted_label</th>\n",
       "    </tr>\n",
       "  </thead>\n",
       "  <tbody>\n",
       "    <tr>\n",
       "      <th>9</th>\n",
       "      <td>I fucking hate Cristiano Ronaldo. He's so full...</td>\n",
       "      <td>Ronaldo in 2003 and 2017 are two completely di...</td>\n",
       "      <td>1</td>\n",
       "      <td>0</td>\n",
       "    </tr>\n",
       "    <tr>\n",
       "      <th>140</th>\n",
       "      <td>ビル・コスビーは性犯罪者です（笑）</td>\n",
       "      <td>それは合衆国憲法と呼ばれるもので、たとえ左翼がリンチが失敗に終わったことに腹を立てたとしても...</td>\n",
       "      <td>1</td>\n",
       "      <td>0</td>\n",
       "    </tr>\n",
       "    <tr>\n",
       "      <th>163</th>\n",
       "      <td>I fucking hate Cristiano Ronaldo. He's so full...</td>\n",
       "      <td>He also helped raise extra money for Erik by d...</td>\n",
       "      <td>0</td>\n",
       "      <td>1</td>\n",
       "    </tr>\n",
       "    <tr>\n",
       "      <th>196</th>\n",
       "      <td>Newt Gingrich está demente; Cawthorn un apósto...</td>\n",
       "      <td>El mandato de Newt Gingrich como presidente de...</td>\n",
       "      <td>1</td>\n",
       "      <td>0</td>\n",
       "    </tr>\n",
       "    <tr>\n",
       "      <th>206</th>\n",
       "      <td>Pero Sandra Bullock es mala actuando como idio...</td>\n",
       "      <td>De hecho, cuando Bullock tiene un guión que es...</td>\n",
       "      <td>0</td>\n",
       "      <td>1</td>\n",
       "    </tr>\n",
       "  </tbody>\n",
       "</table>\n",
       "</div>"
      ],
      "text/plain": [
       "                                                 tweet  \\\n",
       "9    I fucking hate Cristiano Ronaldo. He's so full...   \n",
       "140                                  ビル・コスビーは性犯罪者です（笑）   \n",
       "163  I fucking hate Cristiano Ronaldo. He's so full...   \n",
       "196  Newt Gingrich está demente; Cawthorn un apósto...   \n",
       "206  Pero Sandra Bullock es mala actuando como idio...   \n",
       "\n",
       "                                             paragraph  label  predicted_label  \n",
       "9    Ronaldo in 2003 and 2017 are two completely di...      1                0  \n",
       "140  それは合衆国憲法と呼ばれるもので、たとえ左翼がリンチが失敗に終わったことに腹を立てたとしても...      1                0  \n",
       "163  He also helped raise extra money for Erik by d...      0                1  \n",
       "196  El mandato de Newt Gingrich como presidente de...      1                0  \n",
       "206  De hecho, cuando Bullock tiene un guión que es...      0                1  "
      ]
     },
     "execution_count": 40,
     "metadata": {},
     "output_type": "execute_result"
    }
   ],
   "source": [
    "#Print some examples of errors\n",
    "print(\"\\nExamples of Misclassified Texts:\")\n",
    "errors_df[['tweet', 'paragraph', 'label', 'predicted_label']].head()"
   ]
  },
  {
   "cell_type": "code",
   "execution_count": 41,
   "id": "e49fa948",
   "metadata": {},
   "outputs": [],
   "source": [
    "# Save the errors to a new CSV file\n",
    "errors_df.to_csv('mispredicted_examples_para_Tweet_and_Paragraph.csv', index=False)"
   ]
  },
  {
   "cell_type": "markdown",
   "id": "41c57c58",
   "metadata": {},
   "source": [
    "# 3. Articles (Tweet) - Misprediction Analysis"
   ]
  },
  {
   "cell_type": "code",
   "execution_count": 42,
   "id": "d6ef5468",
   "metadata": {},
   "outputs": [],
   "source": [
    "#Load the translated dataset:\n",
    "data1 = pd.read_csv('articles_translated.csv')"
   ]
  },
  {
   "cell_type": "code",
   "execution_count": 43,
   "id": "4249d880",
   "metadata": {},
   "outputs": [],
   "source": [
    "#Load the test with predictions dataset:\n",
    "data2 = pd.read_csv('ArticleLevel_TweetOnly_test_with_predictions.csv')"
   ]
  },
  {
   "cell_type": "code",
   "execution_count": 44,
   "id": "cb78a88d",
   "metadata": {},
   "outputs": [],
   "source": [
    "#Columns to merge on:\n",
    "col1= 'tweet'\n",
    "col2= 'article'"
   ]
  },
  {
   "cell_type": "code",
   "execution_count": 45,
   "id": "c37d4a39",
   "metadata": {},
   "outputs": [],
   "source": [
    "#Merge the datasets based on these columns:\n",
    "merged_data = pd.merge(data2, data1[[col1, col2, 'language']], on=[col1, col2,], how='left')"
   ]
  },
  {
   "cell_type": "code",
   "execution_count": 46,
   "id": "dd53d5ba",
   "metadata": {
    "scrolled": false
   },
   "outputs": [
    {
     "data": {
      "text/html": [
       "<div>\n",
       "<style scoped>\n",
       "    .dataframe tbody tr th:only-of-type {\n",
       "        vertical-align: middle;\n",
       "    }\n",
       "\n",
       "    .dataframe tbody tr th {\n",
       "        vertical-align: top;\n",
       "    }\n",
       "\n",
       "    .dataframe thead th {\n",
       "        text-align: right;\n",
       "    }\n",
       "</style>\n",
       "<table border=\"1\" class=\"dataframe\">\n",
       "  <thead>\n",
       "    <tr style=\"text-align: right;\">\n",
       "      <th></th>\n",
       "      <th>tweet</th>\n",
       "      <th>article</th>\n",
       "      <th>label</th>\n",
       "      <th>predicted_label</th>\n",
       "      <th>language</th>\n",
       "    </tr>\n",
       "  </thead>\n",
       "  <tbody>\n",
       "    <tr>\n",
       "      <th>0</th>\n",
       "      <td>O değersiz orospu Jesy Nelson'ın takip ettiği ...</td>\n",
       "      <td>Nicki Minaj'ın tamamen çöp müziğe sahip olduğu...</td>\n",
       "      <td>0</td>\n",
       "      <td>0</td>\n",
       "      <td>tr</td>\n",
       "    </tr>\n",
       "    <tr>\n",
       "      <th>1</th>\n",
       "      <td>Justin Trudeau est une figure de proue inutile...</td>\n",
       "      <td>EN octobre, les électeurs canadiens auront la ...</td>\n",
       "      <td>0</td>\n",
       "      <td>0</td>\n",
       "      <td>fr</td>\n",
       "    </tr>\n",
       "    <tr>\n",
       "      <th>2</th>\n",
       "      <td>إذن، حسب منطقك، الرئيس السابق جيمي كارتر إرهاب...</td>\n",
       "      <td>قطعاً. من مركز التجارة العالمي إلى هجمات الغاز...</td>\n",
       "      <td>0</td>\n",
       "      <td>0</td>\n",
       "      <td>ar</td>\n",
       "    </tr>\n",
       "    <tr>\n",
       "      <th>3</th>\n",
       "      <td>lebron james es una azada</td>\n",
       "      <td>Excepto por el período en que Kobe y Shaquille...</td>\n",
       "      <td>0</td>\n",
       "      <td>0</td>\n",
       "      <td>es</td>\n",
       "    </tr>\n",
       "    <tr>\n",
       "      <th>4</th>\n",
       "      <td>Newt Gingrich is demented; Cawthorn a mindless...</td>\n",
       "      <td>It's tough to use the GOP debates as a measure...</td>\n",
       "      <td>0</td>\n",
       "      <td>1</td>\n",
       "      <td>en</td>\n",
       "    </tr>\n",
       "  </tbody>\n",
       "</table>\n",
       "</div>"
      ],
      "text/plain": [
       "                                               tweet  \\\n",
       "0  O değersiz orospu Jesy Nelson'ın takip ettiği ...   \n",
       "1  Justin Trudeau est une figure de proue inutile...   \n",
       "2  إذن، حسب منطقك، الرئيس السابق جيمي كارتر إرهاب...   \n",
       "3                          lebron james es una azada   \n",
       "4  Newt Gingrich is demented; Cawthorn a mindless...   \n",
       "\n",
       "                                             article  label  predicted_label  \\\n",
       "0  Nicki Minaj'ın tamamen çöp müziğe sahip olduğu...      0                0   \n",
       "1  EN octobre, les électeurs canadiens auront la ...      0                0   \n",
       "2  قطعاً. من مركز التجارة العالمي إلى هجمات الغاز...      0                0   \n",
       "3  Excepto por el período en que Kobe y Shaquille...      0                0   \n",
       "4  It's tough to use the GOP debates as a measure...      0                1   \n",
       "\n",
       "  language  \n",
       "0       tr  \n",
       "1       fr  \n",
       "2       ar  \n",
       "3       es  \n",
       "4       en  "
      ]
     },
     "execution_count": 46,
     "metadata": {},
     "output_type": "execute_result"
    }
   ],
   "source": [
    "merged_data.head(5)"
   ]
  },
  {
   "cell_type": "code",
   "execution_count": 47,
   "id": "32e50ada",
   "metadata": {},
   "outputs": [
    {
     "data": {
      "text/plain": [
       "(5037, 5)"
      ]
     },
     "execution_count": 47,
     "metadata": {},
     "output_type": "execute_result"
    }
   ],
   "source": [
    "#Total Test Data Size:\n",
    "merged_data.shape"
   ]
  },
  {
   "cell_type": "code",
   "execution_count": 48,
   "id": "09182054",
   "metadata": {},
   "outputs": [],
   "source": [
    "#Create a new column to check if each prediction was correct:\n",
    "merged_data['correct_prediction'] = merged_data['predicted_label'] == merged_data['label']"
   ]
  },
  {
   "cell_type": "code",
   "execution_count": 49,
   "id": "e93464bd",
   "metadata": {},
   "outputs": [],
   "source": [
    "#Analyze only the errors:\n",
    "errors_df = merged_data[merged_data['correct_prediction'] == False].copy()"
   ]
  },
  {
   "cell_type": "code",
   "execution_count": 50,
   "id": "6a867ce2",
   "metadata": {},
   "outputs": [
    {
     "data": {
      "text/html": [
       "<div>\n",
       "<style scoped>\n",
       "    .dataframe tbody tr th:only-of-type {\n",
       "        vertical-align: middle;\n",
       "    }\n",
       "\n",
       "    .dataframe tbody tr th {\n",
       "        vertical-align: top;\n",
       "    }\n",
       "\n",
       "    .dataframe thead th {\n",
       "        text-align: right;\n",
       "    }\n",
       "</style>\n",
       "<table border=\"1\" class=\"dataframe\">\n",
       "  <thead>\n",
       "    <tr style=\"text-align: right;\">\n",
       "      <th></th>\n",
       "      <th>tweet</th>\n",
       "      <th>article</th>\n",
       "      <th>label</th>\n",
       "      <th>predicted_label</th>\n",
       "      <th>language</th>\n",
       "      <th>correct_prediction</th>\n",
       "    </tr>\n",
       "  </thead>\n",
       "  <tbody>\n",
       "    <tr>\n",
       "      <th>4</th>\n",
       "      <td>Newt Gingrich is demented; Cawthorn a mindless...</td>\n",
       "      <td>It's tough to use the GOP debates as a measure...</td>\n",
       "      <td>0</td>\n",
       "      <td>1</td>\n",
       "      <td>en</td>\n",
       "      <td>False</td>\n",
       "    </tr>\n",
       "    <tr>\n",
       "      <th>131</th>\n",
       "      <td>@GeorgeTakei Melania, seperti Donald Trump, ad...</td>\n",
       "      <td>Keegoisan adalah ciri khas Trump. Segala sesua...</td>\n",
       "      <td>0</td>\n",
       "      <td>1</td>\n",
       "      <td>id</td>\n",
       "      <td>False</td>\n",
       "    </tr>\n",
       "    <tr>\n",
       "      <th>137</th>\n",
       "      <td>यह जरूर कोई काली बकवास होगी। डोजा कैट्ट ने इस ...</td>\n",
       "      <td>मुझें नहीं पता। मैं रॉक का प्रशंसक हूं और मैं ...</td>\n",
       "      <td>1</td>\n",
       "      <td>0</td>\n",
       "      <td>hi</td>\n",
       "      <td>False</td>\n",
       "    </tr>\n",
       "    <tr>\n",
       "      <th>174</th>\n",
       "      <td>те мемы о Джастине Бибере примерно в 2011 году...</td>\n",
       "      <td>Певец Джастин Бибер, возможно, очень талантлив...</td>\n",
       "      <td>0</td>\n",
       "      <td>1</td>\n",
       "      <td>ru</td>\n",
       "      <td>False</td>\n",
       "    </tr>\n",
       "    <tr>\n",
       "      <th>342</th>\n",
       "      <td>@TMZ クリッシー・テイゲンは計算高い女です。楽しみのために毎日彼女をファックし、日曜日に...</td>\n",
       "      <td>クリッシー・テイゲンの言動がすべてひどいというわけではない。時々、彼女は何か興味深いことを言...</td>\n",
       "      <td>0</td>\n",
       "      <td>1</td>\n",
       "      <td>ja</td>\n",
       "      <td>False</td>\n",
       "    </tr>\n",
       "  </tbody>\n",
       "</table>\n",
       "</div>"
      ],
      "text/plain": [
       "                                                 tweet  \\\n",
       "4    Newt Gingrich is demented; Cawthorn a mindless...   \n",
       "131  @GeorgeTakei Melania, seperti Donald Trump, ad...   \n",
       "137  यह जरूर कोई काली बकवास होगी। डोजा कैट्ट ने इस ...   \n",
       "174  те мемы о Джастине Бибере примерно в 2011 году...   \n",
       "342  @TMZ クリッシー・テイゲンは計算高い女です。楽しみのために毎日彼女をファックし、日曜日に...   \n",
       "\n",
       "                                               article  label  \\\n",
       "4    It's tough to use the GOP debates as a measure...      0   \n",
       "131  Keegoisan adalah ciri khas Trump. Segala sesua...      0   \n",
       "137  मुझें नहीं पता। मैं रॉक का प्रशंसक हूं और मैं ...      1   \n",
       "174  Певец Джастин Бибер, возможно, очень талантлив...      0   \n",
       "342  クリッシー・テイゲンの言動がすべてひどいというわけではない。時々、彼女は何か興味深いことを言...      0   \n",
       "\n",
       "     predicted_label language  correct_prediction  \n",
       "4                  1       en               False  \n",
       "131                1       id               False  \n",
       "137                0       hi               False  \n",
       "174                1       ru               False  \n",
       "342                1       ja               False  "
      ]
     },
     "execution_count": 50,
     "metadata": {},
     "output_type": "execute_result"
    }
   ],
   "source": [
    "errors_df.head(5)"
   ]
  },
  {
   "cell_type": "code",
   "execution_count": 51,
   "id": "61ba36a6",
   "metadata": {},
   "outputs": [
    {
     "data": {
      "text/plain": [
       "(95, 6)"
      ]
     },
     "execution_count": 51,
     "metadata": {},
     "output_type": "execute_result"
    }
   ],
   "source": [
    "#Total number of mis-predictions:\n",
    "errors_df.shape"
   ]
  },
  {
   "cell_type": "code",
   "execution_count": 52,
   "id": "05f55091",
   "metadata": {},
   "outputs": [],
   "source": [
    "#Count the number of records per language:\n",
    "language_counts = errors_df['language'].value_counts()"
   ]
  },
  {
   "cell_type": "code",
   "execution_count": 53,
   "id": "f92d663d",
   "metadata": {},
   "outputs": [
    {
     "data": {
      "image/png": "[encoded data removed]",
      "text/plain": [
       "<Figure size 500x300 with 1 Axes>"
      ]
     },
     "metadata": {},
     "output_type": "display_data"
    }
   ],
   "source": [
    "#Plotting a bar graph:\n",
    "plt.figure(figsize=(5, 3))\n",
    "language_counts.plot(kind='bar', color='skyblue')\n",
    "plt.title('Number of Mis-predicted Records per Language')\n",
    "plt.xlabel('Language')\n",
    "plt.ylabel('Number of Mis-predicted Records')\n",
    "plt.xticks(rotation=0)  # Rotate labels to make them readable\n",
    "plt.grid(axis='y', linestyle='--', alpha=0.7)\n",
    "plt.show()"
   ]
  },
  {
   "cell_type": "code",
   "execution_count": 54,
   "id": "7f49b398",
   "metadata": {},
   "outputs": [
    {
     "data": {
      "image/png": "[encoded data removed]",
      "text/plain": [
       "<Figure size 500x300 with 1 Axes>"
      ]
     },
     "metadata": {},
     "output_type": "display_data"
    }
   ],
   "source": [
    "#Choosing shades of green:\n",
    "colors = ['#74c476', '#31a354', '#006d2c']\n",
    "#Plotting a pie chart:\n",
    "plt.figure(figsize=(5, 3))\n",
    "plt.pie(language_counts, labels=language_counts.index, autopct='%1.1f%%', startangle=140, colors=colors)\n",
    "plt.title('Mis-prediction Distribution by Language')\n",
    "plt.axis('equal')  \n",
    "# Equal aspect ratio ensures that pie is drawn as a circle.\n",
    "plt.show()"
   ]
  },
  {
   "cell_type": "code",
   "execution_count": 57,
   "id": "93b4f32c",
   "metadata": {},
   "outputs": [],
   "source": [
    "#Correct way to add columns for text length to avoid SettingWithCopyWarning\n",
    "errors_df.loc[:, 'tweet_length'] = errors_df['tweet'].apply(len)\n",
    "errors_df.loc[:, 'article_length'] = errors_df['article'].apply(len)"
   ]
  },
  {
   "cell_type": "code",
   "execution_count": 56,
   "id": "8947c2c6",
   "metadata": {},
   "outputs": [],
   "source": [
    "# # Save the errors to a new CSV file\n",
    "# errors_df.to_csv('mispredicted_examples.csv', index=False)"
   ]
  },
  {
   "cell_type": "code",
   "execution_count": 58,
   "id": "7315a5b8",
   "metadata": {},
   "outputs": [
    {
     "name": "stdout",
     "output_type": "stream",
     "text": [
      "Error Tweet Length Statistics:\n",
      "count     95.000000\n",
      "mean      91.105263\n",
      "std       60.844845\n",
      "min       14.000000\n",
      "25%       51.000000\n",
      "50%       78.000000\n",
      "75%      124.000000\n",
      "max      365.000000\n",
      "Name: tweet_length, dtype: float64\n"
     ]
    }
   ],
   "source": [
    "#Display basic statistics about text lengths in errors:\n",
    "print(\"Error Tweet Length Statistics:\")\n",
    "print(errors_df['tweet_length'].describe())"
   ]
  },
  {
   "cell_type": "code",
   "execution_count": 59,
   "id": "48449a64",
   "metadata": {},
   "outputs": [
    {
     "name": "stdout",
     "output_type": "stream",
     "text": [
      "Error article Length Statistics:\n",
      "count       95.000000\n",
      "mean      4525.484211\n",
      "std       5173.469883\n",
      "min        182.000000\n",
      "25%       1408.500000\n",
      "50%       2474.000000\n",
      "75%       6338.500000\n",
      "max      26607.000000\n",
      "Name: article_length, dtype: float64\n"
     ]
    }
   ],
   "source": [
    "print(\"Error article Length Statistics:\")\n",
    "print(errors_df['article_length'].describe())"
   ]
  },
  {
   "cell_type": "code",
   "execution_count": 60,
   "id": "ea01fb77",
   "metadata": {},
   "outputs": [
    {
     "data": {
      "text/plain": [
       "Text(0, 0.5, 'Frequency')"
      ]
     },
     "execution_count": 60,
     "metadata": {},
     "output_type": "execute_result"
    },
    {
     "data": {
      "image/png": "[encoded data removed]",
      "text/plain": [
       "<Figure size 800x400 with 1 Axes>"
      ]
     },
     "metadata": {},
     "output_type": "display_data"
    }
   ],
   "source": [
    "# Visualize the distributions of tweet and article lengths\n",
    "plt.figure(figsize=(8, 4))\n",
    "plt.subplot(1, 2, 1)\n",
    "plt.hist(errors_df['tweet_length'], bins=20, color='red', alpha=0.7)\n",
    "plt.title('Distribution of Tweet Lengths in Errors')\n",
    "plt.xlabel('Tweet Length')\n",
    "plt.ylabel('Frequency')"
   ]
  },
  {
   "cell_type": "code",
   "execution_count": 61,
   "id": "0d17ed4c",
   "metadata": {},
   "outputs": [
    {
     "data": {
      "image/png": "[encoded data removed]",
      "text/plain": [
       "<Figure size 640x480 with 1 Axes>"
      ]
     },
     "metadata": {},
     "output_type": "display_data"
    }
   ],
   "source": [
    "plt.subplot(1, 2, 2)\n",
    "plt.hist(errors_df['article_length'], bins=20, color='blue', alpha=0.7)\n",
    "plt.title('Distribution of Article Lengths in Errors')\n",
    "plt.xlabel('Article Length')\n",
    "plt.ylabel('Frequency')\n",
    "plt.show()"
   ]
  },
  {
   "cell_type": "code",
   "execution_count": 62,
   "id": "fe74e09d",
   "metadata": {},
   "outputs": [
    {
     "name": "stdout",
     "output_type": "stream",
     "text": [
      "\n",
      "Examples of Misclassified Texts:\n"
     ]
    },
    {
     "data": {
      "text/html": [
       "<div>\n",
       "<style scoped>\n",
       "    .dataframe tbody tr th:only-of-type {\n",
       "        vertical-align: middle;\n",
       "    }\n",
       "\n",
       "    .dataframe tbody tr th {\n",
       "        vertical-align: top;\n",
       "    }\n",
       "\n",
       "    .dataframe thead th {\n",
       "        text-align: right;\n",
       "    }\n",
       "</style>\n",
       "<table border=\"1\" class=\"dataframe\">\n",
       "  <thead>\n",
       "    <tr style=\"text-align: right;\">\n",
       "      <th></th>\n",
       "      <th>tweet</th>\n",
       "      <th>article</th>\n",
       "      <th>label</th>\n",
       "      <th>predicted_label</th>\n",
       "    </tr>\n",
       "  </thead>\n",
       "  <tbody>\n",
       "    <tr>\n",
       "      <th>4</th>\n",
       "      <td>Newt Gingrich is demented; Cawthorn a mindless...</td>\n",
       "      <td>It's tough to use the GOP debates as a measure...</td>\n",
       "      <td>0</td>\n",
       "      <td>1</td>\n",
       "    </tr>\n",
       "    <tr>\n",
       "      <th>131</th>\n",
       "      <td>@GeorgeTakei Melania, seperti Donald Trump, ad...</td>\n",
       "      <td>Keegoisan adalah ciri khas Trump. Segala sesua...</td>\n",
       "      <td>0</td>\n",
       "      <td>1</td>\n",
       "    </tr>\n",
       "    <tr>\n",
       "      <th>137</th>\n",
       "      <td>यह जरूर कोई काली बकवास होगी। डोजा कैट्ट ने इस ...</td>\n",
       "      <td>मुझें नहीं पता। मैं रॉक का प्रशंसक हूं और मैं ...</td>\n",
       "      <td>1</td>\n",
       "      <td>0</td>\n",
       "    </tr>\n",
       "    <tr>\n",
       "      <th>174</th>\n",
       "      <td>те мемы о Джастине Бибере примерно в 2011 году...</td>\n",
       "      <td>Певец Джастин Бибер, возможно, очень талантлив...</td>\n",
       "      <td>0</td>\n",
       "      <td>1</td>\n",
       "    </tr>\n",
       "    <tr>\n",
       "      <th>342</th>\n",
       "      <td>@TMZ クリッシー・テイゲンは計算高い女です。楽しみのために毎日彼女をファックし、日曜日に...</td>\n",
       "      <td>クリッシー・テイゲンの言動がすべてひどいというわけではない。時々、彼女は何か興味深いことを言...</td>\n",
       "      <td>0</td>\n",
       "      <td>1</td>\n",
       "    </tr>\n",
       "  </tbody>\n",
       "</table>\n",
       "</div>"
      ],
      "text/plain": [
       "                                                 tweet  \\\n",
       "4    Newt Gingrich is demented; Cawthorn a mindless...   \n",
       "131  @GeorgeTakei Melania, seperti Donald Trump, ad...   \n",
       "137  यह जरूर कोई काली बकवास होगी। डोजा कैट्ट ने इस ...   \n",
       "174  те мемы о Джастине Бибере примерно в 2011 году...   \n",
       "342  @TMZ クリッシー・テイゲンは計算高い女です。楽しみのために毎日彼女をファックし、日曜日に...   \n",
       "\n",
       "                                               article  label  predicted_label  \n",
       "4    It's tough to use the GOP debates as a measure...      0                1  \n",
       "131  Keegoisan adalah ciri khas Trump. Segala sesua...      0                1  \n",
       "137  मुझें नहीं पता। मैं रॉक का प्रशंसक हूं और मैं ...      1                0  \n",
       "174  Певец Джастин Бибер, возможно, очень талантлив...      0                1  \n",
       "342  クリッシー・テイゲンの言動がすべてひどいというわけではない。時々、彼女は何か興味深いことを言...      0                1  "
      ]
     },
     "execution_count": 62,
     "metadata": {},
     "output_type": "execute_result"
    }
   ],
   "source": [
    "#Print some examples of errors\n",
    "print(\"\\nExamples of Misclassified Texts:\")\n",
    "errors_df[['tweet', 'article', 'label', 'predicted_label']].head()"
   ]
  },
  {
   "cell_type": "code",
   "execution_count": 64,
   "id": "2ee80942",
   "metadata": {},
   "outputs": [],
   "source": [
    "# Save the errors to a new CSV file\n",
    "errors_df.to_csv('mispredicted_examples_article_Tweet_only.csv', index=False)"
   ]
  }
 ],
 "metadata": {
  "kernelspec": {
   "display_name": "Python 3 (ipykernel)",
   "language": "python",
   "name": "python3"
  },
  "language_info": {
   "codemirror_mode": {
    "name": "ipython",
    "version": 3
   },
   "file_extension": ".py",
   "mimetype": "text/x-python",
   "name": "python",
   "nbconvert_exporter": "python",
   "pygments_lexer": "ipython3",
   "version": "3.9.13"
  }
 },
 "nbformat": 4,
 "nbformat_minor": 5
}
